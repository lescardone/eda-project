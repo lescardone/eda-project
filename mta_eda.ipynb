{
 "cells": [
  {
   "cell_type": "code",
   "execution_count": 172,
   "id": "departmental-house",
   "metadata": {},
   "outputs": [],
   "source": [
    "from sqlalchemy import create_engine\n",
    "import pandas as pd\n",
    "from datetime import datetime\n",
    "import matplotlib.pyplot as plt\n",
    "import seaborn as sns"
   ]
  },
  {
   "cell_type": "code",
   "execution_count": 151,
   "id": "impaired-range",
   "metadata": {},
   "outputs": [],
   "source": [
    "engine = create_engine(\"sqlite:///data/mta_turnstile.db\")"
   ]
  },
  {
   "cell_type": "code",
   "execution_count": 152,
   "id": "clear-slope",
   "metadata": {},
   "outputs": [
    {
     "name": "stderr",
     "output_type": "stream",
     "text": [
      "<ipython-input-152-454fd37e24c5>:1: SADeprecationWarning: The Engine.table_names() method is deprecated and will be removed in a future release.  Please refer to Inspector.get_table_names(). (deprecated since: 1.4)\n",
      "  all_tables = engine.table_names()\n"
     ]
    }
   ],
   "source": [
    "all_tables = engine.table_names()\n",
    "#all_tables"
   ]
  },
  {
   "cell_type": "code",
   "execution_count": 153,
   "id": "healthy-schedule",
   "metadata": {},
   "outputs": [
    {
     "data": {
      "text/html": [
       "<div>\n",
       "<style scoped>\n",
       "    .dataframe tbody tr th:only-of-type {\n",
       "        vertical-align: middle;\n",
       "    }\n",
       "\n",
       "    .dataframe tbody tr th {\n",
       "        vertical-align: top;\n",
       "    }\n",
       "\n",
       "    .dataframe thead th {\n",
       "        text-align: right;\n",
       "    }\n",
       "</style>\n",
       "<table border=\"1\" class=\"dataframe\">\n",
       "  <thead>\n",
       "    <tr style=\"text-align: right;\">\n",
       "      <th></th>\n",
       "      <th>C/A</th>\n",
       "      <th>UNIT</th>\n",
       "      <th>SCP</th>\n",
       "      <th>STATION</th>\n",
       "      <th>LINENAME</th>\n",
       "      <th>DIVISION</th>\n",
       "      <th>DATE</th>\n",
       "      <th>TIME</th>\n",
       "      <th>DESC</th>\n",
       "      <th>ENTRIES</th>\n",
       "      <th>EXITS</th>\n",
       "    </tr>\n",
       "  </thead>\n",
       "  <tbody>\n",
       "    <tr>\n",
       "      <th>0</th>\n",
       "      <td>A002</td>\n",
       "      <td>R051</td>\n",
       "      <td>02-00-00</td>\n",
       "      <td>59 ST</td>\n",
       "      <td>NQR456W</td>\n",
       "      <td>BMT</td>\n",
       "      <td>12/29/2018</td>\n",
       "      <td>03:00:00</td>\n",
       "      <td>REGULAR</td>\n",
       "      <td>6889287</td>\n",
       "      <td>2335920</td>\n",
       "    </tr>\n",
       "    <tr>\n",
       "      <th>1</th>\n",
       "      <td>A002</td>\n",
       "      <td>R051</td>\n",
       "      <td>02-00-00</td>\n",
       "      <td>59 ST</td>\n",
       "      <td>NQR456W</td>\n",
       "      <td>BMT</td>\n",
       "      <td>12/29/2018</td>\n",
       "      <td>07:00:00</td>\n",
       "      <td>REGULAR</td>\n",
       "      <td>6889299</td>\n",
       "      <td>2335936</td>\n",
       "    </tr>\n",
       "    <tr>\n",
       "      <th>2</th>\n",
       "      <td>A002</td>\n",
       "      <td>R051</td>\n",
       "      <td>02-00-00</td>\n",
       "      <td>59 ST</td>\n",
       "      <td>NQR456W</td>\n",
       "      <td>BMT</td>\n",
       "      <td>12/29/2018</td>\n",
       "      <td>11:00:00</td>\n",
       "      <td>REGULAR</td>\n",
       "      <td>6889364</td>\n",
       "      <td>2336038</td>\n",
       "    </tr>\n",
       "    <tr>\n",
       "      <th>3</th>\n",
       "      <td>A002</td>\n",
       "      <td>R051</td>\n",
       "      <td>02-00-00</td>\n",
       "      <td>59 ST</td>\n",
       "      <td>NQR456W</td>\n",
       "      <td>BMT</td>\n",
       "      <td>12/29/2018</td>\n",
       "      <td>15:00:00</td>\n",
       "      <td>REGULAR</td>\n",
       "      <td>6889605</td>\n",
       "      <td>2336101</td>\n",
       "    </tr>\n",
       "    <tr>\n",
       "      <th>4</th>\n",
       "      <td>A002</td>\n",
       "      <td>R051</td>\n",
       "      <td>02-00-00</td>\n",
       "      <td>59 ST</td>\n",
       "      <td>NQR456W</td>\n",
       "      <td>BMT</td>\n",
       "      <td>12/29/2018</td>\n",
       "      <td>19:00:00</td>\n",
       "      <td>REGULAR</td>\n",
       "      <td>6889966</td>\n",
       "      <td>2336173</td>\n",
       "    </tr>\n",
       "  </tbody>\n",
       "</table>\n",
       "</div>"
      ],
      "text/plain": [
       "    C/A  UNIT       SCP STATION LINENAME DIVISION        DATE      TIME  \\\n",
       "0  A002  R051  02-00-00   59 ST  NQR456W      BMT  12/29/2018  03:00:00   \n",
       "1  A002  R051  02-00-00   59 ST  NQR456W      BMT  12/29/2018  07:00:00   \n",
       "2  A002  R051  02-00-00   59 ST  NQR456W      BMT  12/29/2018  11:00:00   \n",
       "3  A002  R051  02-00-00   59 ST  NQR456W      BMT  12/29/2018  15:00:00   \n",
       "4  A002  R051  02-00-00   59 ST  NQR456W      BMT  12/29/2018  19:00:00   \n",
       "\n",
       "      DESC  ENTRIES  \\\n",
       "0  REGULAR  6889287   \n",
       "1  REGULAR  6889299   \n",
       "2  REGULAR  6889364   \n",
       "3  REGULAR  6889605   \n",
       "4  REGULAR  6889966   \n",
       "\n",
       "   EXITS                                                                 \n",
       "0                                            2335920                     \n",
       "1                                            2335936                     \n",
       "2                                            2336038                     \n",
       "3                                            2336101                     \n",
       "4                                            2336173                     "
      ]
     },
     "execution_count": 153,
     "metadata": {},
     "output_type": "execute_result"
    }
   ],
   "source": [
    "mtadf = pd.read_sql('SELECT * FROM turnstile_2019_0105;',engine)\n",
    "mtadf.head()"
   ]
  },
  {
   "cell_type": "code",
   "execution_count": 154,
   "id": "exempt-spanking",
   "metadata": {},
   "outputs": [
    {
     "name": "stdout",
     "output_type": "stream",
     "text": [
      "DTYPES:\n",
      " C/A                                                                     object\n",
      "UNIT                                                                    object\n",
      "SCP                                                                     object\n",
      "STATION                                                                 object\n",
      "LINENAME                                                                object\n",
      "DIVISION                                                                object\n",
      "DATE                                                                    object\n",
      "TIME                                                                    object\n",
      "DESC                                                                    object\n",
      "ENTRIES                                                                  int64\n",
      "EXITS                                                                    int64\n",
      "dtype: object \n",
      "\n",
      "Index(['C/A', 'UNIT', 'SCP', 'STATION', 'LINENAME', 'DIVISION', 'DATE', 'TIME',\n",
      "       'DESC', 'ENTRIES',\n",
      "       'EXITS                                                               '],\n",
      "      dtype='object')\n"
     ]
    }
   ],
   "source": [
    "print('DTYPES:\\n',mtadf.dtypes,'\\n')\n",
    "print(mtadf.columns)"
   ]
  },
  {
   "cell_type": "code",
   "execution_count": 155,
   "id": "molecular-keyboard",
   "metadata": {},
   "outputs": [
    {
     "data": {
      "text/plain": [
       "Index(['C/A', 'UNIT', 'SCP', 'STATION', 'LINENAME', 'DIVISION', 'DATE', 'TIME',\n",
       "       'DESC', 'ENTRIES', 'EXITS'],\n",
       "      dtype='object')"
      ]
     },
     "execution_count": 155,
     "metadata": {},
     "output_type": "execute_result"
    }
   ],
   "source": [
    "# fix the insane amount of space after 'EXITS'\n",
    "mtadf.rename(str.strip, axis='columns',inplace=True)\n",
    "mtadf.columns"
   ]
  },
  {
   "cell_type": "code",
   "execution_count": 156,
   "id": "hybrid-insured",
   "metadata": {},
   "outputs": [],
   "source": [
    "# change DATE and TIME to datetime objects\n",
    "mtadf['DATE']=pd.to_datetime(mtadf['DATE'])\n",
    "mtadf['TIME']=pd.to_datetime(mtadf['TIME'],format='%H:%M:%S')"
   ]
  },
  {
   "cell_type": "code",
   "execution_count": 157,
   "id": "associate-thunder",
   "metadata": {},
   "outputs": [],
   "source": [
    "# create column for HOUR and MINUTE\n",
    "mtadf['HOUR']=mtadf['TIME'].dt.hour\n",
    "mtadf['MIN']=mtadf['TIME'].dt.minute\n",
    "\n",
    "# drop the TIME column\n",
    "mtadf.drop(columns='TIME',axis=1,inplace=True)"
   ]
  },
  {
   "cell_type": "code",
   "execution_count": 159,
   "id": "universal-story",
   "metadata": {},
   "outputs": [],
   "source": [
    "# create unique identifyer for each turnstile then drop original columns\n",
    "mtadf['TURNSTILE'] = mtadf['C/A'] + '-' + mtadf['UNIT'] + '-' + mtadf['SCP']\n",
    "mtadf.drop(['C/A','UNIT','SCP'],axis=1,inplace=True)\n",
    "\n",
    "# rearrange order of columns\n",
    "col_names = ['STATION','TURNSTILE','DATE','HOUR','MIN','ENTRIES','EXITS','LINENAME','DIVISION','DESC']\n",
    "mtadf = mtadf.reindex(columns=col_names)"
   ]
  },
  {
   "cell_type": "code",
   "execution_count": 237,
   "id": "olympic-approval",
   "metadata": {},
   "outputs": [
    {
     "data": {
      "text/plain": [
       "STATION      0\n",
       "TURNSTILE    0\n",
       "DATE         0\n",
       "HOUR         0\n",
       "MIN          0\n",
       "ENTRIES      0\n",
       "EXITS        0\n",
       "LINENAME     0\n",
       "DIVISION     0\n",
       "DESC         0\n",
       "dtype: int64"
      ]
     },
     "execution_count": 237,
     "metadata": {},
     "output_type": "execute_result"
    }
   ],
   "source": [
    "# check for null values in dataset -- no null values\n",
    "mtadf.isna().sum()"
   ]
  },
  {
   "cell_type": "code",
   "execution_count": 236,
   "id": "silent-eight",
   "metadata": {},
   "outputs": [
    {
     "data": {
      "text/plain": [
       "STATION\n",
       "138/GRAND CONC     991352029\n",
       "182-183 STS       1476159278\n",
       "190 ST            1442503008\n",
       "Name: ENTRIES, dtype: int64"
      ]
     },
     "execution_count": 236,
     "metadata": {},
     "output_type": "execute_result"
    }
   ],
   "source": [
    "# sort the database by station, then turnstile, then date, then time\n",
    "mtadfs = mtadf.sort_values(['STATION','TURNSTILE','DATE','HOUR','MIN'])\n",
    "\n",
    "# which 10 stations have the least amount of turnstiles?\n",
    "mtadfs.groupby(['STATION'])['TURNSTILE'].nunique().nsmallest(10)\n",
    "mtadfs_leastt = mtadfs[mtadfs['STATION'].isin(['138/GRAND CONC','182-183 STS','190 ST'])\n",
    "                       &mtadfs['DATE'].isin(['2019-01-04'])]\n",
    "\n",
    "# max amount of entries per station\n",
    "#CLEVELAND ST and SUTTER AV have significantly less entries\n",
    "mtadfs_leastt.groupby(['STATION'])['ENTRIES'].max()"
   ]
  },
  {
   "cell_type": "code",
   "execution_count": 164,
   "id": "hispanic-russian",
   "metadata": {},
   "outputs": [],
   "source": []
  },
  {
   "cell_type": "code",
   "execution_count": null,
   "id": "leading-airline",
   "metadata": {},
   "outputs": [],
   "source": []
  },
  {
   "cell_type": "code",
   "execution_count": 164,
   "id": "healthy-resolution",
   "metadata": {},
   "outputs": [
    {
     "data": {
      "text/html": [
       "<div>\n",
       "<style scoped>\n",
       "    .dataframe tbody tr th:only-of-type {\n",
       "        vertical-align: middle;\n",
       "    }\n",
       "\n",
       "    .dataframe tbody tr th {\n",
       "        vertical-align: top;\n",
       "    }\n",
       "\n",
       "    .dataframe thead th {\n",
       "        text-align: right;\n",
       "    }\n",
       "</style>\n",
       "<table border=\"1\" class=\"dataframe\">\n",
       "  <thead>\n",
       "    <tr style=\"text-align: right;\">\n",
       "      <th></th>\n",
       "      <th>HOUR</th>\n",
       "      <th>MIN</th>\n",
       "      <th>ENTRIES</th>\n",
       "      <th>EXITS</th>\n",
       "    </tr>\n",
       "  </thead>\n",
       "  <tbody>\n",
       "    <tr>\n",
       "      <th>count</th>\n",
       "      <td>317.000000</td>\n",
       "      <td>317.0</td>\n",
       "      <td>3.170000e+02</td>\n",
       "      <td>3.170000e+02</td>\n",
       "    </tr>\n",
       "    <tr>\n",
       "      <th>mean</th>\n",
       "      <td>13.006309</td>\n",
       "      <td>0.0</td>\n",
       "      <td>7.873335e+07</td>\n",
       "      <td>4.496047e+07</td>\n",
       "    </tr>\n",
       "    <tr>\n",
       "      <th>std</th>\n",
       "      <td>6.851958</td>\n",
       "      <td>0.0</td>\n",
       "      <td>3.198354e+08</td>\n",
       "      <td>1.660011e+08</td>\n",
       "    </tr>\n",
       "    <tr>\n",
       "      <th>min</th>\n",
       "      <td>3.000000</td>\n",
       "      <td>0.0</td>\n",
       "      <td>0.000000e+00</td>\n",
       "      <td>0.000000e+00</td>\n",
       "    </tr>\n",
       "    <tr>\n",
       "      <th>25%</th>\n",
       "      <td>7.000000</td>\n",
       "      <td>0.0</td>\n",
       "      <td>1.807684e+06</td>\n",
       "      <td>1.346728e+06</td>\n",
       "    </tr>\n",
       "    <tr>\n",
       "      <th>50%</th>\n",
       "      <td>15.000000</td>\n",
       "      <td>0.0</td>\n",
       "      <td>6.039640e+06</td>\n",
       "      <td>3.622921e+06</td>\n",
       "    </tr>\n",
       "    <tr>\n",
       "      <th>75%</th>\n",
       "      <td>19.000000</td>\n",
       "      <td>0.0</td>\n",
       "      <td>8.798028e+06</td>\n",
       "      <td>6.477034e+06</td>\n",
       "    </tr>\n",
       "    <tr>\n",
       "      <th>max</th>\n",
       "      <td>23.000000</td>\n",
       "      <td>0.0</td>\n",
       "      <td>2.029932e+09</td>\n",
       "      <td>7.357994e+08</td>\n",
       "    </tr>\n",
       "  </tbody>\n",
       "</table>\n",
       "</div>"
      ],
      "text/plain": [
       "             HOUR    MIN       ENTRIES         EXITS\n",
       "count  317.000000  317.0  3.170000e+02  3.170000e+02\n",
       "mean    13.006309    0.0  7.873335e+07  4.496047e+07\n",
       "std      6.851958    0.0  3.198354e+08  1.660011e+08\n",
       "min      3.000000    0.0  0.000000e+00  0.000000e+00\n",
       "25%      7.000000    0.0  1.807684e+06  1.346728e+06\n",
       "50%     15.000000    0.0  6.039640e+06  3.622921e+06\n",
       "75%     19.000000    0.0  8.798028e+06  6.477034e+06\n",
       "max     23.000000    0.0  2.029932e+09  7.357994e+08"
      ]
     },
     "execution_count": 164,
     "metadata": {},
     "output_type": "execute_result"
    }
   ],
   "source": [
    "#mtadf.head()\n",
    "#explore_data['C/A'].nunique() #737\n",
    "#explore_data['UNIT'].nunique() #465\n",
    "#explore_data['SCP'].nunique() #219\n",
    "#explore_data['STATION'].nunique() #377"
   ]
  },
  {
   "cell_type": "code",
   "execution_count": null,
   "id": "foreign-aruba",
   "metadata": {},
   "outputs": [],
   "source": []
  },
  {
   "cell_type": "code",
   "execution_count": null,
   "id": "obvious-whale",
   "metadata": {},
   "outputs": [],
   "source": []
  }
 ],
 "metadata": {
  "kernelspec": {
   "display_name": "Python [conda env:metis] *",
   "language": "python",
   "name": "conda-env-metis-py"
  },
  "language_info": {
   "codemirror_mode": {
    "name": "ipython",
    "version": 3
   },
   "file_extension": ".py",
   "mimetype": "text/x-python",
   "name": "python",
   "nbconvert_exporter": "python",
   "pygments_lexer": "ipython3",
   "version": "3.8.8"
  }
 },
 "nbformat": 4,
 "nbformat_minor": 5
}
