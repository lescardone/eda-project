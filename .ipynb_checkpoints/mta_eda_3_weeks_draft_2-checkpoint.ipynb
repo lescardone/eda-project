{
 "cells": [
  {
   "cell_type": "code",
   "execution_count": 1059,
   "id": "manufactured-chrome",
   "metadata": {},
   "outputs": [],
   "source": [
    "from sqlalchemy import create_engine\n",
    "import pandas as pd\n",
    "import numpy as np\n",
    "from datetime import datetime, timedelta\n",
    "import matplotlib.pyplot as plt\n",
    "import seaborn as sns"
   ]
  },
  {
   "cell_type": "code",
   "execution_count": 1060,
   "id": "silent-peace",
   "metadata": {},
   "outputs": [],
   "source": [
    "engine = create_engine(\"sqlite:///data/mta_turnstile.db\")"
   ]
  },
  {
   "cell_type": "code",
   "execution_count": 1061,
   "id": "similar-dating",
   "metadata": {},
   "outputs": [
    {
     "name": "stderr",
     "output_type": "stream",
     "text": [
      "<ipython-input-1061-374e45c4e560>:1: SADeprecationWarning: The Engine.table_names() method is deprecated and will be removed in a future release.  Please refer to Inspector.get_table_names(). (deprecated since: 1.4)\n",
      "  all_tables = engine.table_names()\n"
     ]
    },
    {
     "data": {
      "text/plain": [
       "['turnstile_2019_0105', 'turnstile_2019_0112', 'turnstile_2019_0119']"
      ]
     },
     "execution_count": 1061,
     "metadata": {},
     "output_type": "execute_result"
    }
   ],
   "source": [
    "all_tables = engine.table_names()\n",
    "all_tables\n",
    "some_tables = all_tables[0:3]\n",
    "some_tables"
   ]
  },
  {
   "cell_type": "code",
   "execution_count": 1062,
   "id": "important-immune",
   "metadata": {},
   "outputs": [
    {
     "data": {
      "text/html": [
       "<div>\n",
       "<style scoped>\n",
       "    .dataframe tbody tr th:only-of-type {\n",
       "        vertical-align: middle;\n",
       "    }\n",
       "\n",
       "    .dataframe tbody tr th {\n",
       "        vertical-align: top;\n",
       "    }\n",
       "\n",
       "    .dataframe thead th {\n",
       "        text-align: right;\n",
       "    }\n",
       "</style>\n",
       "<table border=\"1\" class=\"dataframe\">\n",
       "  <thead>\n",
       "    <tr style=\"text-align: right;\">\n",
       "      <th></th>\n",
       "      <th>C/A</th>\n",
       "      <th>UNIT</th>\n",
       "      <th>SCP</th>\n",
       "      <th>STATION</th>\n",
       "      <th>LINENAME</th>\n",
       "      <th>DIVISION</th>\n",
       "      <th>DATE</th>\n",
       "      <th>TIME</th>\n",
       "      <th>DESC</th>\n",
       "      <th>ENTRIES</th>\n",
       "      <th>EXITS</th>\n",
       "    </tr>\n",
       "  </thead>\n",
       "  <tbody>\n",
       "    <tr>\n",
       "      <th>0</th>\n",
       "      <td>A002</td>\n",
       "      <td>R051</td>\n",
       "      <td>02-00-00</td>\n",
       "      <td>59 ST</td>\n",
       "      <td>NQR456W</td>\n",
       "      <td>BMT</td>\n",
       "      <td>12/29/2018</td>\n",
       "      <td>03:00:00</td>\n",
       "      <td>REGULAR</td>\n",
       "      <td>6889287</td>\n",
       "      <td>2335920</td>\n",
       "    </tr>\n",
       "    <tr>\n",
       "      <th>1</th>\n",
       "      <td>A002</td>\n",
       "      <td>R051</td>\n",
       "      <td>02-00-00</td>\n",
       "      <td>59 ST</td>\n",
       "      <td>NQR456W</td>\n",
       "      <td>BMT</td>\n",
       "      <td>12/29/2018</td>\n",
       "      <td>07:00:00</td>\n",
       "      <td>REGULAR</td>\n",
       "      <td>6889299</td>\n",
       "      <td>2335936</td>\n",
       "    </tr>\n",
       "    <tr>\n",
       "      <th>2</th>\n",
       "      <td>A002</td>\n",
       "      <td>R051</td>\n",
       "      <td>02-00-00</td>\n",
       "      <td>59 ST</td>\n",
       "      <td>NQR456W</td>\n",
       "      <td>BMT</td>\n",
       "      <td>12/29/2018</td>\n",
       "      <td>11:00:00</td>\n",
       "      <td>REGULAR</td>\n",
       "      <td>6889364</td>\n",
       "      <td>2336038</td>\n",
       "    </tr>\n",
       "    <tr>\n",
       "      <th>3</th>\n",
       "      <td>A002</td>\n",
       "      <td>R051</td>\n",
       "      <td>02-00-00</td>\n",
       "      <td>59 ST</td>\n",
       "      <td>NQR456W</td>\n",
       "      <td>BMT</td>\n",
       "      <td>12/29/2018</td>\n",
       "      <td>15:00:00</td>\n",
       "      <td>REGULAR</td>\n",
       "      <td>6889605</td>\n",
       "      <td>2336101</td>\n",
       "    </tr>\n",
       "    <tr>\n",
       "      <th>4</th>\n",
       "      <td>A002</td>\n",
       "      <td>R051</td>\n",
       "      <td>02-00-00</td>\n",
       "      <td>59 ST</td>\n",
       "      <td>NQR456W</td>\n",
       "      <td>BMT</td>\n",
       "      <td>12/29/2018</td>\n",
       "      <td>19:00:00</td>\n",
       "      <td>REGULAR</td>\n",
       "      <td>6889966</td>\n",
       "      <td>2336173</td>\n",
       "    </tr>\n",
       "  </tbody>\n",
       "</table>\n",
       "</div>"
      ],
      "text/plain": [
       "    C/A  UNIT       SCP STATION LINENAME DIVISION        DATE      TIME  \\\n",
       "0  A002  R051  02-00-00   59 ST  NQR456W      BMT  12/29/2018  03:00:00   \n",
       "1  A002  R051  02-00-00   59 ST  NQR456W      BMT  12/29/2018  07:00:00   \n",
       "2  A002  R051  02-00-00   59 ST  NQR456W      BMT  12/29/2018  11:00:00   \n",
       "3  A002  R051  02-00-00   59 ST  NQR456W      BMT  12/29/2018  15:00:00   \n",
       "4  A002  R051  02-00-00   59 ST  NQR456W      BMT  12/29/2018  19:00:00   \n",
       "\n",
       "      DESC  ENTRIES  \\\n",
       "0  REGULAR  6889287   \n",
       "1  REGULAR  6889299   \n",
       "2  REGULAR  6889364   \n",
       "3  REGULAR  6889605   \n",
       "4  REGULAR  6889966   \n",
       "\n",
       "   EXITS                                                                 \n",
       "0                                            2335920                     \n",
       "1                                            2335936                     \n",
       "2                                            2336038                     \n",
       "3                                            2336101                     \n",
       "4                                            2336173                     "
      ]
     },
     "execution_count": 1062,
     "metadata": {},
     "output_type": "execute_result"
    }
   ],
   "source": [
    "dfs = []\n",
    "for table in some_tables:\n",
    "    dfs.append(pd.read_sql(table,engine))\n",
    "    mtadf = pd.concat(dfs)\n",
    "mtadf.head()"
   ]
  },
  {
   "cell_type": "code",
   "execution_count": 1063,
   "id": "nonprofit-girlfriend",
   "metadata": {},
   "outputs": [
    {
     "name": "stdout",
     "output_type": "stream",
     "text": [
      "DTYPES:\n",
      " C/A                                                                     object\n",
      "UNIT                                                                    object\n",
      "SCP                                                                     object\n",
      "STATION                                                                 object\n",
      "LINENAME                                                                object\n",
      "DIVISION                                                                object\n",
      "DATE                                                                    object\n",
      "TIME                                                                    object\n",
      "DESC                                                                    object\n",
      "ENTRIES                                                                  int64\n",
      "EXITS                                                                    int64\n",
      "dtype: object \n",
      "\n",
      "Index(['C/A', 'UNIT', 'SCP', 'STATION', 'LINENAME', 'DIVISION', 'DATE', 'TIME',\n",
      "       'DESC', 'ENTRIES',\n",
      "       'EXITS                                                               '],\n",
      "      dtype='object')\n",
      "(607420, 11)\n"
     ]
    }
   ],
   "source": [
    "print('DTYPES:\\n',mtadf.dtypes,'\\n')\n",
    "print(mtadf.columns)\n",
    "print(mtadf.shape)"
   ]
  },
  {
   "cell_type": "code",
   "execution_count": 1064,
   "id": "identical-spain",
   "metadata": {},
   "outputs": [
    {
     "data": {
      "text/plain": [
       "Index(['C/A', 'UNIT', 'SCP', 'STATION', 'LINENAME', 'DIVISION', 'DATE', 'TIME',\n",
       "       'DESC', 'ENTRIES', 'EXITS'],\n",
       "      dtype='object')"
      ]
     },
     "execution_count": 1064,
     "metadata": {},
     "output_type": "execute_result"
    }
   ],
   "source": [
    "# fix the insane amount of space after 'EXITS'\n",
    "mtadf.rename(str.strip, axis='columns',inplace=True)\n",
    "mtadf.columns"
   ]
  },
  {
   "cell_type": "code",
   "execution_count": 1065,
   "id": "crazy-porcelain",
   "metadata": {},
   "outputs": [],
   "source": [
    "# change DATE and TIME to datetime objects\n",
    "mtadf['OBSERVED_AT'] = pd.to_datetime(mtadf['DATE']+ ' ' + mtadf['TIME'], \n",
    "                                      format='%m/%d/%Y %H:%M:%S')"
   ]
  },
  {
   "cell_type": "code",
   "execution_count": 1041,
   "id": "hundred-government",
   "metadata": {},
   "outputs": [],
   "source": [
    "# 21 days of data AKA 3 weeks\n",
    "# mtadf.DATE.value_counts().sort_index()"
   ]
  },
  {
   "cell_type": "code",
   "execution_count": 1043,
   "id": "stable-sierra",
   "metadata": {
    "collapsed": true,
    "jupyter": {
     "outputs_hidden": true
    },
    "tags": []
   },
   "outputs": [
    {
     "data": {
      "text/plain": [
       "\"daymap = {0:'Monday',\\n          1: 'Tuesday',\\n          2: 'Wednesday',\\n          3: 'Thursday',\\n          4: 'Friday',\\n          5: 'Saturday',\\n          6: 'Sunday'}\\nmtadf['WEEKDAY']=mtadf['WEEKDAY'].map(daymap)\\n\""
      ]
     },
     "execution_count": 1043,
     "metadata": {},
     "output_type": "execute_result"
    }
   ],
   "source": [
    "# SAVE FOR LATER\n",
    "# create column for day of week\n",
    "# mtadf['WEEKDAY']=mtadf['OBSERVED_AT'].dt.dayofweek\n",
    "# change WEEKDAY from int64 to string Monday-Sunday\n",
    "'''daymap = {0:'Monday',\n",
    "          1: 'Tuesday',\n",
    "          2: 'Wednesday',\n",
    "          3: 'Thursday',\n",
    "          4: 'Friday',\n",
    "          5: 'Saturday',\n",
    "          6: 'Sunday'}\n",
    "mtadf['WEEKDAY']=mtadf['WEEKDAY'].map(daymap)\n",
    "'''"
   ]
  },
  {
   "cell_type": "code",
   "execution_count": 1066,
   "id": "thick-patio",
   "metadata": {
    "tags": []
   },
   "outputs": [],
   "source": [
    "# create some other columns based on the datetime object\n",
    "mtadf['MONTH'] = mtadf.OBSERVED_AT.dt.month\n",
    "mtadf['DAY'] = mtadf.OBSERVED_AT.dt.day\n",
    "\n",
    "# don't end up using\n",
    "# mtadf['HOUR'] = mtadf.OBSERVED_AT.dt.hour\n",
    "# mtadf['MIN'] = mtadf.OBSERVED_AT.dt.minute"
   ]
  },
  {
   "cell_type": "code",
   "execution_count": 1067,
   "id": "finite-order",
   "metadata": {},
   "outputs": [],
   "source": [
    "# create identifyer for each turnstile then drop original columns\n",
    "mtadf['TURNSTILE'] = mtadf['UNIT'] + '-' + mtadf['C/A'] + '-' + mtadf['SCP']\n",
    "\n",
    "# didn't end up needing this\n",
    "# mtadf['TURNSTILE_ID'] = mtadf['UNIT'] + '-' + mtadf['C/A'] + '-' + mtadf['SCP']\\\n",
    "                       # + '-' + mtadf['DATE'] + '-' + mtadf['TIME']"
   ]
  },
  {
   "cell_type": "code",
   "execution_count": 1068,
   "id": "hispanic-listing",
   "metadata": {
    "tags": []
   },
   "outputs": [],
   "source": [
    "mtadf.drop(['C/A','UNIT','SCP'],axis=1,inplace=True)"
   ]
  },
  {
   "cell_type": "code",
   "execution_count": 1069,
   "id": "editorial-button",
   "metadata": {},
   "outputs": [
    {
     "data": {
      "text/plain": [
       "Index(['STATION', 'LINENAME', 'DIVISION', 'DATE', 'TIME', 'DESC', 'ENTRIES',\n",
       "       'EXITS', 'OBSERVED_AT', 'MONTH', 'DAY', 'TURNSTILE'],\n",
       "      dtype='object')"
      ]
     },
     "execution_count": 1069,
     "metadata": {},
     "output_type": "execute_result"
    }
   ],
   "source": [
    "mtadf.columns"
   ]
  },
  {
   "cell_type": "code",
   "execution_count": 1070,
   "id": "heard-castle",
   "metadata": {},
   "outputs": [
    {
     "data": {
      "text/html": [
       "<div>\n",
       "<style scoped>\n",
       "    .dataframe tbody tr th:only-of-type {\n",
       "        vertical-align: middle;\n",
       "    }\n",
       "\n",
       "    .dataframe tbody tr th {\n",
       "        vertical-align: top;\n",
       "    }\n",
       "\n",
       "    .dataframe thead th {\n",
       "        text-align: right;\n",
       "    }\n",
       "</style>\n",
       "<table border=\"1\" class=\"dataframe\">\n",
       "  <thead>\n",
       "    <tr style=\"text-align: right;\">\n",
       "      <th></th>\n",
       "      <th>STATION</th>\n",
       "      <th>TURNSTILE</th>\n",
       "      <th>OBSERVED_AT</th>\n",
       "      <th>DATE</th>\n",
       "      <th>MONTH</th>\n",
       "      <th>DAY</th>\n",
       "      <th>WEEKDAY</th>\n",
       "      <th>TIME</th>\n",
       "      <th>ENTRIES</th>\n",
       "      <th>EXITS</th>\n",
       "      <th>LINENAME</th>\n",
       "      <th>DIVISION</th>\n",
       "      <th>DESC</th>\n",
       "    </tr>\n",
       "  </thead>\n",
       "  <tbody>\n",
       "    <tr>\n",
       "      <th>0</th>\n",
       "      <td>59 ST</td>\n",
       "      <td>R051-A002-02-00-00</td>\n",
       "      <td>2018-12-29 03:00:00</td>\n",
       "      <td>12/29/2018</td>\n",
       "      <td>12</td>\n",
       "      <td>29</td>\n",
       "      <td>NaN</td>\n",
       "      <td>03:00:00</td>\n",
       "      <td>6889287</td>\n",
       "      <td>2335920</td>\n",
       "      <td>NQR456W</td>\n",
       "      <td>BMT</td>\n",
       "      <td>REGULAR</td>\n",
       "    </tr>\n",
       "  </tbody>\n",
       "</table>\n",
       "</div>"
      ],
      "text/plain": [
       "  STATION           TURNSTILE         OBSERVED_AT        DATE  MONTH  DAY  \\\n",
       "0   59 ST  R051-A002-02-00-00 2018-12-29 03:00:00  12/29/2018     12   29   \n",
       "\n",
       "   WEEKDAY      TIME  ENTRIES    EXITS LINENAME DIVISION     DESC  \n",
       "0      NaN  03:00:00  6889287  2335920  NQR456W      BMT  REGULAR  "
      ]
     },
     "execution_count": 1070,
     "metadata": {},
     "output_type": "execute_result"
    }
   ],
   "source": [
    "# rearrange order of columns\n",
    "col_names = ['STATION','TURNSTILE','OBSERVED_AT',\n",
    "             'DATE','MONTH','DAY','WEEKDAY','TIME',\n",
    "             'ENTRIES','EXITS',\n",
    "             'LINENAME','DIVISION','DESC']\n",
    "mtadf = mtadf.reindex(columns=col_names)\n",
    "mtadf.head(1)"
   ]
  },
  {
   "cell_type": "code",
   "execution_count": 1071,
   "id": "chemical-consumer",
   "metadata": {},
   "outputs": [],
   "source": [
    "# sort the dataframe by station, then month/day/hour/min\n",
    "mtadf.sort_values(['STATION','MONTH','DAY'],inplace=True)"
   ]
  },
  {
   "cell_type": "code",
   "execution_count": 1072,
   "id": "extreme-companion",
   "metadata": {},
   "outputs": [
    {
     "data": {
      "text/plain": [
       "7     55924\n",
       "11    55079\n",
       "23    54427\n",
       "15    54375\n",
       "3     54336\n",
       "19    54327\n",
       "8     40925\n",
       "16    39071\n",
       "12    39040\n",
       "0     38984\n",
       "4     38978\n",
       "20    38898\n",
       "9      4834\n",
       "5      4493\n",
       "13     4470\n",
       "21     4433\n",
       "17     4431\n",
       "1      4410\n",
       "10     3290\n",
       "6      2783\n",
       "14     2511\n",
       "18     2497\n",
       "2      2459\n",
       "22     2445\n",
       "Name: OBSERVED_AT, dtype: int64"
      ]
     },
     "execution_count": 1072,
     "metadata": {},
     "output_type": "execute_result"
    }
   ],
   "source": [
    "mtadf.OBSERVED_AT.dt.hour.value_counts()\n",
    "#some observations are at HOUR 0 aka midnight"
   ]
  },
  {
   "cell_type": "code",
   "execution_count": 1073,
   "id": "given-democrat",
   "metadata": {},
   "outputs": [],
   "source": [
    "# create an hour offset\n",
    "one_hour = pd.offsets.Hour()"
   ]
  },
  {
   "cell_type": "code",
   "execution_count": 1074,
   "id": "mysterious-immune",
   "metadata": {},
   "outputs": [
    {
     "name": "stdout",
     "output_type": "stream",
     "text": [
      "(38984, 13)\n",
      "(607420, 13)\n"
     ]
    }
   ],
   "source": [
    "# how many rows occur from midnight to midnight:59?\n",
    "print(mtadf[mtadf.OBSERVED_AT.dt.hour == 0].shape)\n",
    "print(mtadf.shape)"
   ]
  },
  {
   "cell_type": "code",
   "execution_count": 1075,
   "id": "international-dispatch",
   "metadata": {},
   "outputs": [],
   "source": [
    "# if the observation was from midnight to midight:59\n",
    "# subtract 1 hour so the log is included for the previous day\n",
    "mtadf['OBSERVED_AT'] = mtadf['OBSERVED_AT'].apply(lambda x: x-one_hour if x.hour == 0 else x)"
   ]
  },
  {
   "cell_type": "code",
   "execution_count": 1076,
   "id": "loaded-stability",
   "metadata": {},
   "outputs": [
    {
     "name": "stdout",
     "output_type": "stream",
     "text": [
      "Empty DataFrame\n",
      "Columns: [STATION, TURNSTILE, OBSERVED_AT, DATE, MONTH, DAY, WEEKDAY, TIME, ENTRIES, EXITS, LINENAME, DIVISION, DESC, HOUR]\n",
      "Index: []\n"
     ]
    }
   ],
   "source": [
    "# check if we have any instances of midnight to midnight:59\n",
    "mtadf['HOUR'] = mtadf['OBSERVED_AT'].dt.hour\n",
    "print(mtadf[mtadf['HOUR'] == 0])"
   ]
  },
  {
   "cell_type": "code",
   "execution_count": 1077,
   "id": "controlled-combat",
   "metadata": {},
   "outputs": [
    {
     "data": {
      "text/html": [
       "<div>\n",
       "<style scoped>\n",
       "    .dataframe tbody tr th:only-of-type {\n",
       "        vertical-align: middle;\n",
       "    }\n",
       "\n",
       "    .dataframe tbody tr th {\n",
       "        vertical-align: top;\n",
       "    }\n",
       "\n",
       "    .dataframe thead th {\n",
       "        text-align: right;\n",
       "    }\n",
       "</style>\n",
       "<table border=\"1\" class=\"dataframe\">\n",
       "  <thead>\n",
       "    <tr style=\"text-align: right;\">\n",
       "      <th></th>\n",
       "      <th>TURNSTILE</th>\n",
       "      <th>STATION</th>\n",
       "      <th>DATE</th>\n",
       "      <th>ENTRIES</th>\n",
       "      <th>EXITS</th>\n",
       "    </tr>\n",
       "  </thead>\n",
       "  <tbody>\n",
       "    <tr>\n",
       "      <th>0</th>\n",
       "      <td>R001-A058-01-00-00</td>\n",
       "      <td>WHITEHALL S-FRY</td>\n",
       "      <td>01/01/2019</td>\n",
       "      <td>1495716</td>\n",
       "      <td>3470742</td>\n",
       "    </tr>\n",
       "    <tr>\n",
       "      <th>1</th>\n",
       "      <td>R001-A058-01-00-00</td>\n",
       "      <td>WHITEHALL S-FRY</td>\n",
       "      <td>01/02/2019</td>\n",
       "      <td>1496890</td>\n",
       "      <td>3473304</td>\n",
       "    </tr>\n",
       "    <tr>\n",
       "      <th>2</th>\n",
       "      <td>R001-A058-01-00-00</td>\n",
       "      <td>WHITEHALL S-FRY</td>\n",
       "      <td>01/03/2019</td>\n",
       "      <td>1498200</td>\n",
       "      <td>3475903</td>\n",
       "    </tr>\n",
       "    <tr>\n",
       "      <th>3</th>\n",
       "      <td>R001-A058-01-00-00</td>\n",
       "      <td>WHITEHALL S-FRY</td>\n",
       "      <td>01/04/2019</td>\n",
       "      <td>1499417</td>\n",
       "      <td>3478394</td>\n",
       "    </tr>\n",
       "    <tr>\n",
       "      <th>4</th>\n",
       "      <td>R001-A058-01-00-00</td>\n",
       "      <td>WHITEHALL S-FRY</td>\n",
       "      <td>01/05/2019</td>\n",
       "      <td>1499698</td>\n",
       "      <td>3479101</td>\n",
       "    </tr>\n",
       "    <tr>\n",
       "      <th>...</th>\n",
       "      <td>...</td>\n",
       "      <td>...</td>\n",
       "      <td>...</td>\n",
       "      <td>...</td>\n",
       "      <td>...</td>\n",
       "    </tr>\n",
       "    <tr>\n",
       "      <th>100631</th>\n",
       "      <td>R572-N702A-01-03-04</td>\n",
       "      <td>96 ST-2 AVE</td>\n",
       "      <td>01/17/2019</td>\n",
       "      <td>931008</td>\n",
       "      <td>304809</td>\n",
       "    </tr>\n",
       "    <tr>\n",
       "      <th>100632</th>\n",
       "      <td>R572-N702A-01-03-04</td>\n",
       "      <td>96 ST-2 AVE</td>\n",
       "      <td>01/18/2019</td>\n",
       "      <td>932433</td>\n",
       "      <td>305272</td>\n",
       "    </tr>\n",
       "    <tr>\n",
       "      <th>100633</th>\n",
       "      <td>R572-N702A-01-03-04</td>\n",
       "      <td>96 ST-2 AVE</td>\n",
       "      <td>12/29/2018</td>\n",
       "      <td>909936</td>\n",
       "      <td>297827</td>\n",
       "    </tr>\n",
       "    <tr>\n",
       "      <th>100634</th>\n",
       "      <td>R572-N702A-01-03-04</td>\n",
       "      <td>96 ST-2 AVE</td>\n",
       "      <td>12/30/2018</td>\n",
       "      <td>910208</td>\n",
       "      <td>297928</td>\n",
       "    </tr>\n",
       "    <tr>\n",
       "      <th>100635</th>\n",
       "      <td>R572-N702A-01-03-04</td>\n",
       "      <td>96 ST-2 AVE</td>\n",
       "      <td>12/31/2018</td>\n",
       "      <td>910983</td>\n",
       "      <td>298189</td>\n",
       "    </tr>\n",
       "  </tbody>\n",
       "</table>\n",
       "<p>100636 rows × 5 columns</p>\n",
       "</div>"
      ],
      "text/plain": [
       "                  TURNSTILE          STATION        DATE  ENTRIES    EXITS\n",
       "0        R001-A058-01-00-00  WHITEHALL S-FRY  01/01/2019  1495716  3470742\n",
       "1        R001-A058-01-00-00  WHITEHALL S-FRY  01/02/2019  1496890  3473304\n",
       "2        R001-A058-01-00-00  WHITEHALL S-FRY  01/03/2019  1498200  3475903\n",
       "3        R001-A058-01-00-00  WHITEHALL S-FRY  01/04/2019  1499417  3478394\n",
       "4        R001-A058-01-00-00  WHITEHALL S-FRY  01/05/2019  1499698  3479101\n",
       "...                     ...              ...         ...      ...      ...\n",
       "100631  R572-N702A-01-03-04      96 ST-2 AVE  01/17/2019   931008   304809\n",
       "100632  R572-N702A-01-03-04      96 ST-2 AVE  01/18/2019   932433   305272\n",
       "100633  R572-N702A-01-03-04      96 ST-2 AVE  12/29/2018   909936   297827\n",
       "100634  R572-N702A-01-03-04      96 ST-2 AVE  12/30/2018   910208   297928\n",
       "100635  R572-N702A-01-03-04      96 ST-2 AVE  12/31/2018   910983   298189\n",
       "\n",
       "[100636 rows x 5 columns]"
      ]
     },
     "execution_count": 1077,
     "metadata": {},
     "output_type": "execute_result"
    }
   ],
   "source": [
    "# get daily cumulative # per turnstile per date\n",
    "mtadf_ts_daily = (mtadf.groupby(['TURNSTILE','STATION','DATE'],as_index=False)\n",
    "                        [['ENTRIES','EXITS']].max())\n",
    "mtadf_ts_daily"
   ]
  },
  {
   "cell_type": "code",
   "execution_count": 1078,
   "id": "dirty-flush",
   "metadata": {},
   "outputs": [
    {
     "data": {
      "text/html": [
       "<div>\n",
       "<style scoped>\n",
       "    .dataframe tbody tr th:only-of-type {\n",
       "        vertical-align: middle;\n",
       "    }\n",
       "\n",
       "    .dataframe tbody tr th {\n",
       "        vertical-align: top;\n",
       "    }\n",
       "\n",
       "    .dataframe thead th {\n",
       "        text-align: right;\n",
       "    }\n",
       "</style>\n",
       "<table border=\"1\" class=\"dataframe\">\n",
       "  <thead>\n",
       "    <tr style=\"text-align: right;\">\n",
       "      <th></th>\n",
       "      <th>TURNSTILE</th>\n",
       "      <th>STATION</th>\n",
       "      <th>DATE</th>\n",
       "      <th>ENTRIES</th>\n",
       "      <th>EXITS</th>\n",
       "      <th>PREV_DATE</th>\n",
       "      <th>PREV_ENTRIES</th>\n",
       "      <th>PREV_EXITS</th>\n",
       "    </tr>\n",
       "  </thead>\n",
       "  <tbody>\n",
       "    <tr>\n",
       "      <th>0</th>\n",
       "      <td>R001-A058-01-00-00</td>\n",
       "      <td>WHITEHALL S-FRY</td>\n",
       "      <td>01/01/2019</td>\n",
       "      <td>1495716</td>\n",
       "      <td>3470742</td>\n",
       "      <td>NaN</td>\n",
       "      <td>NaN</td>\n",
       "      <td>NaN</td>\n",
       "    </tr>\n",
       "    <tr>\n",
       "      <th>1</th>\n",
       "      <td>R001-A058-01-00-00</td>\n",
       "      <td>WHITEHALL S-FRY</td>\n",
       "      <td>01/02/2019</td>\n",
       "      <td>1496890</td>\n",
       "      <td>3473304</td>\n",
       "      <td>01/01/2019</td>\n",
       "      <td>1495716.0</td>\n",
       "      <td>3470742.0</td>\n",
       "    </tr>\n",
       "    <tr>\n",
       "      <th>2</th>\n",
       "      <td>R001-A058-01-00-00</td>\n",
       "      <td>WHITEHALL S-FRY</td>\n",
       "      <td>01/03/2019</td>\n",
       "      <td>1498200</td>\n",
       "      <td>3475903</td>\n",
       "      <td>01/02/2019</td>\n",
       "      <td>1496890.0</td>\n",
       "      <td>3473304.0</td>\n",
       "    </tr>\n",
       "    <tr>\n",
       "      <th>3</th>\n",
       "      <td>R001-A058-01-00-00</td>\n",
       "      <td>WHITEHALL S-FRY</td>\n",
       "      <td>01/04/2019</td>\n",
       "      <td>1499417</td>\n",
       "      <td>3478394</td>\n",
       "      <td>01/03/2019</td>\n",
       "      <td>1498200.0</td>\n",
       "      <td>3475903.0</td>\n",
       "    </tr>\n",
       "    <tr>\n",
       "      <th>4</th>\n",
       "      <td>R001-A058-01-00-00</td>\n",
       "      <td>WHITEHALL S-FRY</td>\n",
       "      <td>01/05/2019</td>\n",
       "      <td>1499698</td>\n",
       "      <td>3479101</td>\n",
       "      <td>01/04/2019</td>\n",
       "      <td>1499417.0</td>\n",
       "      <td>3478394.0</td>\n",
       "    </tr>\n",
       "    <tr>\n",
       "      <th>...</th>\n",
       "      <td>...</td>\n",
       "      <td>...</td>\n",
       "      <td>...</td>\n",
       "      <td>...</td>\n",
       "      <td>...</td>\n",
       "      <td>...</td>\n",
       "      <td>...</td>\n",
       "      <td>...</td>\n",
       "    </tr>\n",
       "    <tr>\n",
       "      <th>100631</th>\n",
       "      <td>R572-N702A-01-03-04</td>\n",
       "      <td>96 ST-2 AVE</td>\n",
       "      <td>01/17/2019</td>\n",
       "      <td>931008</td>\n",
       "      <td>304809</td>\n",
       "      <td>01/16/2019</td>\n",
       "      <td>929537.0</td>\n",
       "      <td>304322.0</td>\n",
       "    </tr>\n",
       "    <tr>\n",
       "      <th>100632</th>\n",
       "      <td>R572-N702A-01-03-04</td>\n",
       "      <td>96 ST-2 AVE</td>\n",
       "      <td>01/18/2019</td>\n",
       "      <td>932433</td>\n",
       "      <td>305272</td>\n",
       "      <td>01/17/2019</td>\n",
       "      <td>931008.0</td>\n",
       "      <td>304809.0</td>\n",
       "    </tr>\n",
       "    <tr>\n",
       "      <th>100633</th>\n",
       "      <td>R572-N702A-01-03-04</td>\n",
       "      <td>96 ST-2 AVE</td>\n",
       "      <td>12/29/2018</td>\n",
       "      <td>909936</td>\n",
       "      <td>297827</td>\n",
       "      <td>01/18/2019</td>\n",
       "      <td>932433.0</td>\n",
       "      <td>305272.0</td>\n",
       "    </tr>\n",
       "    <tr>\n",
       "      <th>100634</th>\n",
       "      <td>R572-N702A-01-03-04</td>\n",
       "      <td>96 ST-2 AVE</td>\n",
       "      <td>12/30/2018</td>\n",
       "      <td>910208</td>\n",
       "      <td>297928</td>\n",
       "      <td>12/29/2018</td>\n",
       "      <td>909936.0</td>\n",
       "      <td>297827.0</td>\n",
       "    </tr>\n",
       "    <tr>\n",
       "      <th>100635</th>\n",
       "      <td>R572-N702A-01-03-04</td>\n",
       "      <td>96 ST-2 AVE</td>\n",
       "      <td>12/31/2018</td>\n",
       "      <td>910983</td>\n",
       "      <td>298189</td>\n",
       "      <td>12/30/2018</td>\n",
       "      <td>910208.0</td>\n",
       "      <td>297928.0</td>\n",
       "    </tr>\n",
       "  </tbody>\n",
       "</table>\n",
       "<p>100636 rows × 8 columns</p>\n",
       "</div>"
      ],
      "text/plain": [
       "                  TURNSTILE          STATION        DATE  ENTRIES    EXITS  \\\n",
       "0        R001-A058-01-00-00  WHITEHALL S-FRY  01/01/2019  1495716  3470742   \n",
       "1        R001-A058-01-00-00  WHITEHALL S-FRY  01/02/2019  1496890  3473304   \n",
       "2        R001-A058-01-00-00  WHITEHALL S-FRY  01/03/2019  1498200  3475903   \n",
       "3        R001-A058-01-00-00  WHITEHALL S-FRY  01/04/2019  1499417  3478394   \n",
       "4        R001-A058-01-00-00  WHITEHALL S-FRY  01/05/2019  1499698  3479101   \n",
       "...                     ...              ...         ...      ...      ...   \n",
       "100631  R572-N702A-01-03-04      96 ST-2 AVE  01/17/2019   931008   304809   \n",
       "100632  R572-N702A-01-03-04      96 ST-2 AVE  01/18/2019   932433   305272   \n",
       "100633  R572-N702A-01-03-04      96 ST-2 AVE  12/29/2018   909936   297827   \n",
       "100634  R572-N702A-01-03-04      96 ST-2 AVE  12/30/2018   910208   297928   \n",
       "100635  R572-N702A-01-03-04      96 ST-2 AVE  12/31/2018   910983   298189   \n",
       "\n",
       "         PREV_DATE  PREV_ENTRIES  PREV_EXITS  \n",
       "0              NaN           NaN         NaN  \n",
       "1       01/01/2019     1495716.0   3470742.0  \n",
       "2       01/02/2019     1496890.0   3473304.0  \n",
       "3       01/03/2019     1498200.0   3475903.0  \n",
       "4       01/04/2019     1499417.0   3478394.0  \n",
       "...            ...           ...         ...  \n",
       "100631  01/16/2019      929537.0    304322.0  \n",
       "100632  01/17/2019      931008.0    304809.0  \n",
       "100633  01/18/2019      932433.0    305272.0  \n",
       "100634  12/29/2018      909936.0    297827.0  \n",
       "100635  12/30/2018      910208.0    297928.0  \n",
       "\n",
       "[100636 rows x 8 columns]"
      ]
     },
     "execution_count": 1078,
     "metadata": {},
     "output_type": "execute_result"
    }
   ],
   "source": [
    "mtadf_ts_daily[['PREV_DATE','PREV_ENTRIES','PREV_EXITS']]=mtadf_ts_daily\\\n",
    "                            .groupby(['TURNSTILE','STATION'])[['DATE', 'ENTRIES','EXITS']]\\\n",
    "                            .apply(lambda grp: grp.shift(1))\n",
    "mtadf_ts_daily            "
   ]
  },
  {
   "cell_type": "code",
   "execution_count": 1079,
   "id": "young-camel",
   "metadata": {},
   "outputs": [],
   "source": [
    "# drop the rows for the earliest date in the DF for each Turnstile\n",
    "mtadf_ts_daily.dropna(subset=[\"PREV_DATE\"], axis=0, inplace=True)"
   ]
  },
  {
   "cell_type": "code",
   "execution_count": 1080,
   "id": "assumed-february",
   "metadata": {},
   "outputs": [
    {
     "data": {
      "text/plain": [
       "(95814, 8)"
      ]
     },
     "execution_count": 1080,
     "metadata": {},
     "output_type": "execute_result"
    }
   ],
   "source": [
    "mtadf_ts_daily.shape"
   ]
  },
  {
   "cell_type": "code",
   "execution_count": 1081,
   "id": "found-disney",
   "metadata": {},
   "outputs": [
    {
     "data": {
      "text/plain": [
       "(5245, 8)"
      ]
     },
     "execution_count": 1081,
     "metadata": {},
     "output_type": "execute_result"
    }
   ],
   "source": [
    "# how many entries are going backwards\n",
    "mtadf_ts_daily[mtadf_ts_daily['ENTRIES'] < mtadf_ts_daily['PREV_ENTRIES']].shape"
   ]
  },
  {
   "cell_type": "code",
   "execution_count": 1082,
   "id": "animal-characteristic",
   "metadata": {},
   "outputs": [],
   "source": [
    "# how many turnstiles per station\n",
    "# mtadf.groupby('STATION')['TURNSTILE'].nunique().describe()"
   ]
  },
  {
   "cell_type": "code",
   "execution_count": 1083,
   "id": "equipped-firmware",
   "metadata": {},
   "outputs": [],
   "source": [
    "def get_daily_entries(df):\n",
    "    #max_count is 2 person per minute through the turnstile\n",
    "    max_count = 120 * 24\n",
    "    count = df['ENTRIES'] - df['PREV_ENTRIES']\n",
    "    if count < 0:\n",
    "        count = -count\n",
    "        \n",
    "    if count > max_count:\n",
    "        count = min(df[\"ENTRIES\"], df[\"PREV_ENTRIES\"])\n",
    "    \n",
    "    if count > max_count:\n",
    "        return 0\n",
    "    return count"
   ]
  },
  {
   "cell_type": "code",
   "execution_count": 1084,
   "id": "measured-hayes",
   "metadata": {},
   "outputs": [],
   "source": [
    "mtadf_ts_daily['NET_ENTRIES']= mtadf_ts_daily.apply(get_daily_entries, axis=1)"
   ]
  },
  {
   "cell_type": "code",
   "execution_count": 1085,
   "id": "emerging-reducing",
   "metadata": {},
   "outputs": [],
   "source": [
    "def get_daily_exits(df):\n",
    "    max_count = 120 * 24\n",
    "    count = df['EXITS'] - df['PREV_EXITS']\n",
    "    if count < 0:\n",
    "        count = -count\n",
    "        \n",
    "    if count > max_count:\n",
    "        count = min(df['EXITS'], df['PREV_EXITS'])\n",
    "    \n",
    "    if count > max_count:\n",
    "        return 0\n",
    "    return count"
   ]
  },
  {
   "cell_type": "code",
   "execution_count": 1086,
   "id": "matched-courtesy",
   "metadata": {},
   "outputs": [],
   "source": [
    "mtadf_ts_daily['NET_EXITS']= mtadf_ts_daily.apply(get_daily_exits, axis=1)"
   ]
  },
  {
   "cell_type": "code",
   "execution_count": 1087,
   "id": "native-opening",
   "metadata": {},
   "outputs": [],
   "source": [
    "# create a DF with daily # per STATION per DATE, sum the NET_ENTRIES NET_EXITS per STATION\n",
    "mtadf_st_daily = mtadf_ts_daily.groupby(['STATION','DATE'],as_index=False)[['NET_ENTRIES','NET_EXITS']].sum()"
   ]
  },
  {
   "cell_type": "code",
   "execution_count": 1088,
   "id": "uniform-departure",
   "metadata": {},
   "outputs": [],
   "source": [
    "# create a columb for NET_BUSY\n",
    "mtadf_st_daily['NET_BUSY'] = mtadf_st_daily['NET_ENTRIES'] + mtadf_st_daily['NET_EXITS']"
   ]
  },
  {
   "cell_type": "code",
   "execution_count": 1089,
   "id": "bright-trustee",
   "metadata": {},
   "outputs": [
    {
     "data": {
      "text/html": [
       "<div>\n",
       "<style scoped>\n",
       "    .dataframe tbody tr th:only-of-type {\n",
       "        vertical-align: middle;\n",
       "    }\n",
       "\n",
       "    .dataframe tbody tr th {\n",
       "        vertical-align: top;\n",
       "    }\n",
       "\n",
       "    .dataframe thead th {\n",
       "        text-align: right;\n",
       "    }\n",
       "</style>\n",
       "<table border=\"1\" class=\"dataframe\">\n",
       "  <thead>\n",
       "    <tr style=\"text-align: right;\">\n",
       "      <th></th>\n",
       "      <th>STATION</th>\n",
       "      <th>DATE</th>\n",
       "      <th>NET_ENTRIES</th>\n",
       "      <th>NET_EXITS</th>\n",
       "      <th>NET_BUSY</th>\n",
       "    </tr>\n",
       "  </thead>\n",
       "  <tbody>\n",
       "    <tr>\n",
       "      <th>0</th>\n",
       "      <td>1 AV</td>\n",
       "      <td>01/02/2019</td>\n",
       "      <td>7309.0</td>\n",
       "      <td>5242.0</td>\n",
       "      <td>12551.0</td>\n",
       "    </tr>\n",
       "    <tr>\n",
       "      <th>1</th>\n",
       "      <td>1 AV</td>\n",
       "      <td>01/03/2019</td>\n",
       "      <td>7533.0</td>\n",
       "      <td>5588.0</td>\n",
       "      <td>13121.0</td>\n",
       "    </tr>\n",
       "    <tr>\n",
       "      <th>2</th>\n",
       "      <td>1 AV</td>\n",
       "      <td>01/04/2019</td>\n",
       "      <td>8009.0</td>\n",
       "      <td>5905.0</td>\n",
       "      <td>13914.0</td>\n",
       "    </tr>\n",
       "    <tr>\n",
       "      <th>3</th>\n",
       "      <td>1 AV</td>\n",
       "      <td>01/05/2019</td>\n",
       "      <td>7542.0</td>\n",
       "      <td>6590.0</td>\n",
       "      <td>14132.0</td>\n",
       "    </tr>\n",
       "    <tr>\n",
       "      <th>4</th>\n",
       "      <td>1 AV</td>\n",
       "      <td>01/06/2019</td>\n",
       "      <td>12021.0</td>\n",
       "      <td>10851.0</td>\n",
       "      <td>22872.0</td>\n",
       "    </tr>\n",
       "    <tr>\n",
       "      <th>...</th>\n",
       "      <td>...</td>\n",
       "      <td>...</td>\n",
       "      <td>...</td>\n",
       "      <td>...</td>\n",
       "      <td>...</td>\n",
       "    </tr>\n",
       "    <tr>\n",
       "      <th>7522</th>\n",
       "      <td>ZEREGA AV</td>\n",
       "      <td>01/17/2019</td>\n",
       "      <td>2811.0</td>\n",
       "      <td>2600.0</td>\n",
       "      <td>5411.0</td>\n",
       "    </tr>\n",
       "    <tr>\n",
       "      <th>7523</th>\n",
       "      <td>ZEREGA AV</td>\n",
       "      <td>01/18/2019</td>\n",
       "      <td>2678.0</td>\n",
       "      <td>2430.0</td>\n",
       "      <td>5108.0</td>\n",
       "    </tr>\n",
       "    <tr>\n",
       "      <th>7524</th>\n",
       "      <td>ZEREGA AV</td>\n",
       "      <td>12/29/2018</td>\n",
       "      <td>528.0</td>\n",
       "      <td>1.0</td>\n",
       "      <td>529.0</td>\n",
       "    </tr>\n",
       "    <tr>\n",
       "      <th>7525</th>\n",
       "      <td>ZEREGA AV</td>\n",
       "      <td>12/30/2018</td>\n",
       "      <td>1068.0</td>\n",
       "      <td>1197.0</td>\n",
       "      <td>2265.0</td>\n",
       "    </tr>\n",
       "    <tr>\n",
       "      <th>7526</th>\n",
       "      <td>ZEREGA AV</td>\n",
       "      <td>12/31/2018</td>\n",
       "      <td>1747.0</td>\n",
       "      <td>1629.0</td>\n",
       "      <td>3376.0</td>\n",
       "    </tr>\n",
       "  </tbody>\n",
       "</table>\n",
       "<p>7527 rows × 5 columns</p>\n",
       "</div>"
      ],
      "text/plain": [
       "        STATION        DATE  NET_ENTRIES  NET_EXITS  NET_BUSY\n",
       "0          1 AV  01/02/2019       7309.0     5242.0   12551.0\n",
       "1          1 AV  01/03/2019       7533.0     5588.0   13121.0\n",
       "2          1 AV  01/04/2019       8009.0     5905.0   13914.0\n",
       "3          1 AV  01/05/2019       7542.0     6590.0   14132.0\n",
       "4          1 AV  01/06/2019      12021.0    10851.0   22872.0\n",
       "...         ...         ...          ...        ...       ...\n",
       "7522  ZEREGA AV  01/17/2019       2811.0     2600.0    5411.0\n",
       "7523  ZEREGA AV  01/18/2019       2678.0     2430.0    5108.0\n",
       "7524  ZEREGA AV  12/29/2018        528.0        1.0     529.0\n",
       "7525  ZEREGA AV  12/30/2018       1068.0     1197.0    2265.0\n",
       "7526  ZEREGA AV  12/31/2018       1747.0     1629.0    3376.0\n",
       "\n",
       "[7527 rows x 5 columns]"
      ]
     },
     "execution_count": 1089,
     "metadata": {},
     "output_type": "execute_result"
    }
   ],
   "source": [
    "# we have a dataframe that shows net entries, net exits, and net busy by station by day!\n",
    "mtadf_st_daily"
   ]
  },
  {
   "cell_type": "code",
   "execution_count": 1090,
   "id": "first-rocket",
   "metadata": {},
   "outputs": [],
   "source": [
    "# put DATE back as a datetime object\n",
    "mtadf_st_daily['DATE'] = pd.to_datetime(mtadf_st_daily['DATE'])"
   ]
  },
  {
   "cell_type": "code",
   "execution_count": 1091,
   "id": "fundamental-makeup",
   "metadata": {},
   "outputs": [],
   "source": [
    "mtadf_st_daily['WEEKDAY']=mtadf_st_daily['DATE'].dt.dayofweek\n",
    "# change WEEKDAY from int64 to string Monday-Sunday\n",
    "daymap = {0:'Monday',\n",
    "          1: 'Tuesday',\n",
    "          2: 'Wednesday',\n",
    "          3: 'Thursday',\n",
    "          4: 'Friday',\n",
    "          5: 'Saturday',\n",
    "          6: 'Sunday'}\n",
    "mtadf_st_daily['WEEKDAY']=mtadf_st_daily['WEEKDAY'].map(daymap)"
   ]
  },
  {
   "cell_type": "code",
   "execution_count": 1115,
   "id": "vertical-reply",
   "metadata": {},
   "outputs": [],
   "source": [
    "# get the average business on a given day of the week for that station\n",
    "mtadf_st_daymean = mtadf_st_daily.groupby(['STATION','WEEKDAY'])[['NET_BUSY']].mean()"
   ]
  }
 ],
 "metadata": {
  "kernelspec": {
   "display_name": "Python [conda env:metis] *",
   "language": "python",
   "name": "conda-env-metis-py"
  },
  "language_info": {
   "codemirror_mode": {
    "name": "ipython",
    "version": 3
   },
   "file_extension": ".py",
   "mimetype": "text/x-python",
   "name": "python",
   "nbconvert_exporter": "python",
   "pygments_lexer": "ipython3",
   "version": "3.8.8"
  }
 },
 "nbformat": 4,
 "nbformat_minor": 5
}
